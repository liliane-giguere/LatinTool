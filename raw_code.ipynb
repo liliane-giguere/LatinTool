{
 "cells": [
  {
   "cell_type": "code",
   "execution_count": 161,
   "metadata": {},
   "outputs": [
    {
     "name": "stdout",
     "output_type": "stream",
     "text": [
      "Bienvenue a l'outil d'apprentissage de latin!\n"
     ]
    }
   ],
   "source": [
    "import pandas as pd\n",
    "import random \n",
    "\n",
    "columns = [\"cat1\", \"cat2\", \"latin\", \"french\", 'notes1', 'notes2', 'notes3','notes4']\n",
    "\n",
    "df = pd.read_excel('latin_input_v4.xlsx', header=None, names=columns)\n",
    "print(\"Bienvenue a l'outil d'apprentissage de latin!\", end='\\n')\n"
   ]
  },
  {
   "cell_type": "code",
   "execution_count": 148,
   "metadata": {},
   "outputs": [],
   "source": [
    "def broad_category(cat1):\n",
    "    if cat1 == 1:\n",
    "        return 'verbe'\n",
    "    elif cat1 == 2:\n",
    "        return 'nom'\n",
    "    elif cat1 == 3:\n",
    "        return 'adjectif'\n",
    "    elif cat1 == 4:\n",
    "        return 'preposition'\n",
    "    else:\n",
    "        return 'autre'\n",
    "    \n"
   ]
  },
  {
   "cell_type": "code",
   "execution_count": 149,
   "metadata": {},
   "outputs": [],
   "source": [
    "def specific_category(cat1, cat2):\n",
    "    if cat1 == 1:\n",
    "        if cat2 == 1:\n",
    "            return '1er groupe'\n",
    "        elif cat2 == 2 or cat2 == 3 or cat2 == 4 :\n",
    "            return f\"{cat2}eme groupe\"\n",
    "        elif cat2 == 4:\n",
    "            return 'verbes irregulier'\n",
    "        else:\n",
    "            return 'verbes deponants'\n",
    "            \n",
    "    elif cat1 == 2:\n",
    "        if cat2 == 1:\n",
    "            return '1ere declinaison'\n",
    "        elif cat2 == 2 or cat2 == 3 or cat2 == 4 or cat2 == 5:\n",
    "            return f\"{cat2}eme declinaison\"\n",
    "    \n",
    "    elif cat1 == 3:\n",
    "        if cat2 == 1:\n",
    "            return '1ere & 2eme declinaison'\n",
    "        else:\n",
    "            return '3eme declinaison'\n",
    "    \n",
    "    else:\n",
    "        return None\n",
    "    "
   ]
  },
  {
   "cell_type": "code",
   "execution_count": 150,
   "metadata": {},
   "outputs": [],
   "source": [
    "df['Broad_Category'] = df['cat1'].apply(broad_category)\n",
    "df['Specific_Category'] = df.apply(lambda row: specific_category(row['cat1'], row['cat2']), axis=1)"
   ]
  },
  {
   "cell_type": "code",
   "execution_count": 152,
   "metadata": {},
   "outputs": [
    {
     "name": "stdout",
     "output_type": "stream",
     "text": [
      "Bienvenue a l'outil d'apprentissage de latin!\n"
     ]
    }
   ],
   "source": [
    "\n",
    "lang = int(input(\"1. latin -> francais ou 2. francais -> latin \"))"
   ]
  },
  {
   "cell_type": "code",
   "execution_count": 154,
   "metadata": {},
   "outputs": [
    {
     "name": "stdout",
     "output_type": "stream",
     "text": [
      "1. verbe\n",
      "2. nom\n",
      "3. adjectif\n",
      "4. preposition\n",
      "5. autre\n",
      "6. Toutes categories\n",
      "Tu as choisis le numero: 2 nom\n"
     ]
    }
   ],
   "source": [
    "options = {}\n",
    "\n",
    "for i, option in enumerate(df['Broad_Category'].unique(), 1):\n",
    "    options[i] = option\n",
    "    print(f\"{i}. {option}\")\n",
    "print(f\"6. Toutes categories\")\n",
    "\n",
    "choice = int(input('Quelle categorie de mot veux tu pratiquer?' ))\n",
    "\n",
    "if choice == 6:\n",
    "    print('Tu as choisis le numero:', choice, \"Toutes categories\", end='\\n')\n",
    "else:\n",
    "    print('Tu as choisis le numero:', choice, options[choice], end='\\n')\n"
   ]
  },
  {
   "cell_type": "code",
   "execution_count": 155,
   "metadata": {},
   "outputs": [
    {
     "name": "stdout",
     "output_type": "stream",
     "text": [
      "1. 1ere declinaison\n",
      "2. 2eme declinaison\n",
      "3. 3eme declinaison\n",
      "4. 4eme declinaison\n",
      "5. 5eme declinaison\n",
      "Tu as choisis le numero: 5 5eme declinaison\n"
     ]
    }
   ],
   "source": [
    "specific = {}\n",
    "if choice == 1:\n",
    "\n",
    "    for i, specific_option in enumerate(df[df['cat1'] == 1]['Specific_Category'].unique(), 1):\n",
    "        specific[i] = specific_option\n",
    "    \n",
    "    for i in range(1, 6):\n",
    "        print(f\"{i}. {specific[i]}\")\n",
    "    \n",
    "    s_choice = int(input('Quelle categorie de verbes veux-tu pratiquer?' ))\n",
    "    print(\"Tu as choisis le numero:\", s_choice, specific[s_choice], end='\\n')\n",
    "\n",
    "if choice == 2:\n",
    "    for i, specific_option in enumerate(df[df['cat1'] == 2]['Specific_Category'].unique(), 1):\n",
    "        specific[i] = specific_option\n",
    "        print(f\"{i}. {specific[i]}\")\n",
    "    \n",
    "    s_choice = int(input('Quelle categorie de noms veux-tu pratiquer?' ))\n",
    "    print(\"Tu as choisis le numero:\", s_choice, specific[s_choice], end='\\n')\n",
    "\n",
    "\n",
    "if choice == 3:\n",
    "    for i, specific_option in enumerate(df[df['cat1'] == 3]['Specific_Category'].unique(), 1):\n",
    "        specific[i] = specific_option\n",
    "    \n",
    "    for i in range(1, 3):\n",
    "        print(f\"{i}. {specific[i]}\")\n",
    "    \n",
    "    s_choice = int(input('Quelle categorie d\\'adjectifs veux-tu pratiquer?' ))\n",
    "    print(\"Tu as choisis le numero:\", s_choice, specific[s_choice], end='\\n')\n",
    "\n",
    "\n",
    "## verbes irreguliers avant verbes deponants"
   ]
  },
  {
   "cell_type": "code",
   "execution_count": 159,
   "metadata": {},
   "outputs": [
    {
     "name": "stdout",
     "output_type": "stream",
     "text": [
      "Row numbers of matching words: [167]\n"
     ]
    }
   ],
   "source": [
    "if choice <4:\n",
    "    if choice == 3 and s_choice == 2:\n",
    "        s_choice += 1\n",
    "        filtered_df = df[(df[\"cat1\"] == choice)]\n",
    "        final_filtered_df = filtered_df[filtered_df[\"cat2\"] == s_choice]\n",
    "    else:\n",
    "        filtered_df = df[df[\"cat1\"] == choice]\n",
    "        final_filtered_df = filtered_df[filtered_df[\"cat2\"] == s_choice]\n",
    "        print(s_choice, choice)\n",
    "if choice == 6:\n",
    "    filtered_df = df\n",
    "else:\n",
    "    filtered_df = df[(df[\"cat1\"] == choice)]\n",
    "\n",
    "# Get the row numbers of the matching words\n",
    "row_numbers = final_filtered_df.index.tolist()\n",
    "print(\"Row numbers of matching words:\", row_numbers)\n",
    "\n"
   ]
  },
  {
   "cell_type": "code",
   "execution_count": 113,
   "metadata": {},
   "outputs": [],
   "source": [
    "def choose_random_number(beg,end, already_chose):\n",
    "    while True:\n",
    "        num = random.randint(beg,end)\n",
    "        if len(already_chose) == len(row_numbers):\n",
    "            return print(\"Tu as fini de revoir tous les mots dans cette categorie!\")\n",
    "        if num not in already_chose:\n",
    "            already_chose.append(num)\n",
    "            return num\n"
   ]
  },
  {
   "cell_type": "code",
   "execution_count": 115,
   "metadata": {},
   "outputs": [],
   "source": [
    "rando = row_numbers\n",
    "already_chose = []\n",
    "# num = choose_random_number(row_numbers[0], row_numbers[-1], already_chose)\n",
    "# if num in already_chose:\n",
    "#    num = choose_random_number(row_numbers[0], row_numbers[-1]) \n",
    "#    already_chose.append(num)\n"
   ]
  },
  {
   "cell_type": "code",
   "execution_count": 116,
   "metadata": {},
   "outputs": [
    {
     "name": "stdout",
     "output_type": "stream",
     "text": [
      "lourd\n",
      "Incorrect!\n",
      "gras\n",
      "Incorrect!\n",
      "sage\n",
      "Incorrect!\n",
      "court\n",
      "Incorrect!\n",
      "vieux\n",
      "Incorrect!\n",
      "brave\n",
      "Incorrect!\n",
      "vert\n",
      "Incorrect!\n",
      "triste\n",
      "Incorrect!\n",
      "tous \n",
      "Incorrect!\n",
      "singulier\n",
      "Incorrect!\n",
      "pluriel \n",
      "Incorrect!\n"
     ]
    },
    {
     "ename": "KeyboardInterrupt",
     "evalue": "",
     "output_type": "error",
     "traceback": [
      "\u001b[0;31m---------------------------------------------------------------------------\u001b[0m",
      "\u001b[0;31mKeyboardInterrupt\u001b[0m                         Traceback (most recent call last)",
      "Cell \u001b[0;32mIn[116], line 3\u001b[0m\n\u001b[1;32m      1\u001b[0m \u001b[38;5;28;01mwhile\u001b[39;00m \u001b[38;5;28;01mTrue\u001b[39;00m:\n\u001b[1;32m      2\u001b[0m     \u001b[38;5;28;01mif\u001b[39;00m lang \u001b[38;5;241m==\u001b[39m \u001b[38;5;241m1\u001b[39m:\n\u001b[0;32m----> 3\u001b[0m         num \u001b[38;5;241m=\u001b[39m \u001b[43mchoose_random_number\u001b[49m\u001b[43m(\u001b[49m\u001b[43mrow_numbers\u001b[49m\u001b[43m[\u001b[49m\u001b[38;5;241;43m0\u001b[39;49m\u001b[43m]\u001b[49m\u001b[43m,\u001b[49m\u001b[43m \u001b[49m\u001b[43mrow_numbers\u001b[49m\u001b[43m[\u001b[49m\u001b[38;5;241;43m-\u001b[39;49m\u001b[38;5;241;43m1\u001b[39;49m\u001b[43m]\u001b[49m\u001b[43m,\u001b[49m\u001b[43m \u001b[49m\u001b[43malready_chose\u001b[49m\u001b[43m)\u001b[49m\n\u001b[1;32m      4\u001b[0m         word \u001b[38;5;241m=\u001b[39m filtered_df[\u001b[38;5;124m'\u001b[39m\u001b[38;5;124mlatin\u001b[39m\u001b[38;5;124m'\u001b[39m][num]\n\u001b[1;32m      5\u001b[0m         answer \u001b[38;5;241m=\u001b[39m \u001b[38;5;28mstr\u001b[39m(\u001b[38;5;28minput\u001b[39m(\u001b[38;5;124mf\u001b[39m\u001b[38;5;124m'\u001b[39m\u001b[38;5;124mQuelle est la traduction de: \u001b[39m\u001b[38;5;132;01m{\u001b[39;00mword\u001b[38;5;132;01m}\u001b[39;00m\u001b[38;5;124m'\u001b[39m))\n",
      "Cell \u001b[0;32mIn[113], line 3\u001b[0m, in \u001b[0;36mchoose_random_number\u001b[0;34m(beg, end, already_chose)\u001b[0m\n\u001b[1;32m      1\u001b[0m \u001b[38;5;28;01mdef\u001b[39;00m\u001b[38;5;250m \u001b[39m\u001b[38;5;21mchoose_random_number\u001b[39m(beg,end, already_chose):\n\u001b[1;32m      2\u001b[0m     \u001b[38;5;28;01mwhile\u001b[39;00m \u001b[38;5;28;01mTrue\u001b[39;00m:\n\u001b[0;32m----> 3\u001b[0m         num \u001b[38;5;241m=\u001b[39m \u001b[43mrandom\u001b[49m\u001b[38;5;241;43m.\u001b[39;49m\u001b[43mrandint\u001b[49m\u001b[43m(\u001b[49m\u001b[43mbeg\u001b[49m\u001b[43m,\u001b[49m\u001b[43mend\u001b[49m\u001b[43m)\u001b[49m\n\u001b[1;32m      4\u001b[0m         \u001b[38;5;28;01mif\u001b[39;00m num \u001b[38;5;129;01mnot\u001b[39;00m \u001b[38;5;129;01min\u001b[39;00m already_chose:\n\u001b[1;32m      5\u001b[0m             already_chose\u001b[38;5;241m.\u001b[39mappend(num)\n",
      "File \u001b[0;32m/Library/Frameworks/Python.framework/Versions/3.12/lib/python3.12/random.py:336\u001b[0m, in \u001b[0;36mRandom.randint\u001b[0;34m(self, a, b)\u001b[0m\n\u001b[1;32m    332\u001b[0m \u001b[38;5;28;01mdef\u001b[39;00m\u001b[38;5;250m \u001b[39m\u001b[38;5;21mrandint\u001b[39m(\u001b[38;5;28mself\u001b[39m, a, b):\n\u001b[1;32m    333\u001b[0m \u001b[38;5;250m    \u001b[39m\u001b[38;5;124;03m\"\"\"Return random integer in range [a, b], including both end points.\u001b[39;00m\n\u001b[1;32m    334\u001b[0m \u001b[38;5;124;03m    \"\"\"\u001b[39;00m\n\u001b[0;32m--> 336\u001b[0m     \u001b[38;5;28;01mreturn\u001b[39;00m \u001b[38;5;28;43mself\u001b[39;49m\u001b[38;5;241;43m.\u001b[39;49m\u001b[43mrandrange\u001b[49m\u001b[43m(\u001b[49m\u001b[43ma\u001b[49m\u001b[43m,\u001b[49m\u001b[43m \u001b[49m\u001b[43mb\u001b[49m\u001b[38;5;241;43m+\u001b[39;49m\u001b[38;5;241;43m1\u001b[39;49m\u001b[43m)\u001b[49m\n",
      "File \u001b[0;32m/Library/Frameworks/Python.framework/Versions/3.12/lib/python3.12/random.py:318\u001b[0m, in \u001b[0;36mRandom.randrange\u001b[0;34m(self, start, stop, step)\u001b[0m\n\u001b[1;32m    316\u001b[0m \u001b[38;5;28;01mif\u001b[39;00m istep \u001b[38;5;241m==\u001b[39m \u001b[38;5;241m1\u001b[39m:\n\u001b[1;32m    317\u001b[0m     \u001b[38;5;28;01mif\u001b[39;00m width \u001b[38;5;241m>\u001b[39m \u001b[38;5;241m0\u001b[39m:\n\u001b[0;32m--> 318\u001b[0m         \u001b[38;5;28;01mreturn\u001b[39;00m istart \u001b[38;5;241m+\u001b[39m \u001b[38;5;28;43mself\u001b[39;49m\u001b[38;5;241;43m.\u001b[39;49m\u001b[43m_randbelow\u001b[49m\u001b[43m(\u001b[49m\u001b[43mwidth\u001b[49m\u001b[43m)\u001b[49m\n\u001b[1;32m    319\u001b[0m     \u001b[38;5;28;01mraise\u001b[39;00m \u001b[38;5;167;01mValueError\u001b[39;00m(\u001b[38;5;124mf\u001b[39m\u001b[38;5;124m\"\u001b[39m\u001b[38;5;124mempty range in randrange(\u001b[39m\u001b[38;5;132;01m{\u001b[39;00mstart\u001b[38;5;132;01m}\u001b[39;00m\u001b[38;5;124m, \u001b[39m\u001b[38;5;132;01m{\u001b[39;00mstop\u001b[38;5;132;01m}\u001b[39;00m\u001b[38;5;124m)\u001b[39m\u001b[38;5;124m\"\u001b[39m)\n\u001b[1;32m    321\u001b[0m \u001b[38;5;66;03m# Non-unit step argument supplied.\u001b[39;00m\n",
      "File \u001b[0;32m/Library/Frameworks/Python.framework/Versions/3.12/lib/python3.12/random.py:249\u001b[0m, in \u001b[0;36mRandom._randbelow_with_getrandbits\u001b[0;34m(self, n)\u001b[0m\n\u001b[1;32m    247\u001b[0m r \u001b[38;5;241m=\u001b[39m getrandbits(k)  \u001b[38;5;66;03m# 0 <= r < 2**k\u001b[39;00m\n\u001b[1;32m    248\u001b[0m \u001b[38;5;28;01mwhile\u001b[39;00m r \u001b[38;5;241m>\u001b[39m\u001b[38;5;241m=\u001b[39m n:\n\u001b[0;32m--> 249\u001b[0m     r \u001b[38;5;241m=\u001b[39m \u001b[43mgetrandbits\u001b[49m\u001b[43m(\u001b[49m\u001b[43mk\u001b[49m\u001b[43m)\u001b[49m\n\u001b[1;32m    250\u001b[0m \u001b[38;5;28;01mreturn\u001b[39;00m r\n",
      "\u001b[0;31mKeyboardInterrupt\u001b[0m: "
     ]
    }
   ],
   "source": [
    "while True:\n",
    "    if lang == 1:\n",
    "        num = choose_random_number(row_numbers[0], row_numbers[-1], already_chose)\n",
    "        word = filtered_df['latin'][num]\n",
    "        answer = str(input(f'Quelle est la traduction de: {word}'))\n",
    "        if answer == filtered_df['french'][num]:\n",
    "            print('Correct!')\n",
    "        else:\n",
    "            print(filtered_df['french'][num])\n",
    "            print('Incorrect!')\n",
    "    else:\n",
    "        word = filtered_df['french'][choose_random_number(row_numbers[0], row_numbers[-1])]\n",
    "        answer = str(input(f'Quelle est la traduction de: {word}'))"
   ]
  }
 ],
 "metadata": {
  "kernelspec": {
   "display_name": ".venv",
   "language": "python",
   "name": "python3"
  },
  "language_info": {
   "codemirror_mode": {
    "name": "ipython",
    "version": 3
   },
   "file_extension": ".py",
   "mimetype": "text/x-python",
   "name": "python",
   "nbconvert_exporter": "python",
   "pygments_lexer": "ipython3",
   "version": "3.12.8"
  }
 },
 "nbformat": 4,
 "nbformat_minor": 2
}
