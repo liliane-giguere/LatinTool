{
 "cells": [
  {
   "cell_type": "code",
   "execution_count": 54,
   "metadata": {},
   "outputs": [],
   "source": [
    "import pandas as pd\n",
    "import random \n",
    "\n",
    "columns = [\"cat1\", \"cat2\", \"latin\", \"french\", 'notes1', 'notes2', 'notes3','notes4']\n",
    "\n",
    "df = pd.read_excel('latin_input_v4.xlsx', header=None, names=columns)\n"
   ]
  },
  {
   "cell_type": "code",
   "execution_count": 56,
   "metadata": {},
   "outputs": [],
   "source": [
    "def broad_category(cat1):\n",
    "    if cat1 == 1:\n",
    "        return 'verbe'\n",
    "    elif cat1 == 2:\n",
    "        return 'nom'\n",
    "    elif cat1 == 3:\n",
    "        return 'adjectif'\n",
    "    elif cat1 == 4:\n",
    "        return 'preposition'\n",
    "    else:\n",
    "        return 'autre'\n",
    "    \n"
   ]
  },
  {
   "cell_type": "code",
   "execution_count": 64,
   "metadata": {},
   "outputs": [],
   "source": [
    "def specific_category(cat1, cat2):\n",
    "    if cat1 == 1:\n",
    "        if cat2 == 1:\n",
    "            return '1er groupe'\n",
    "        elif cat2 == 2 or cat2 == 3 or cat2 == 4 :\n",
    "            return f\"{cat2}eme groupe\"\n",
    "        elif cat2 == 4:\n",
    "            return 'verbes irregulier'\n",
    "        else:\n",
    "            return 'verbes deponants'\n",
    "            \n",
    "    elif cat1 == 2:\n",
    "        if cat2 == 1:\n",
    "            return '1ere declinaison'\n",
    "        elif cat2 == 2 or cat2 == 3 or cat2 == 4 or cat2 == 5:\n",
    "            return f\"{cat2}eme declinaison\"\n",
    "    \n",
    "    elif cat1 == 3:\n",
    "        if cat2 == 1:\n",
    "            return '1ere & 2eme declinaison'\n",
    "        else:\n",
    "            return '3eme declinaison'\n",
    "    \n",
    "    else:\n",
    "        return None\n",
    "    "
   ]
  },
  {
   "cell_type": "code",
   "execution_count": 65,
   "metadata": {},
   "outputs": [],
   "source": [
    "df['Broad_Category'] = df['cat1'].apply(broad_category)\n",
    "df['Specific_Category'] = df.apply(lambda row: specific_category(row['cat1'], row['cat2']), axis=1)"
   ]
  },
  {
   "cell_type": "code",
   "execution_count": 35,
   "metadata": {},
   "outputs": [],
   "source": [
    "lang = int(input(\"1. latin -> francais ou 2. francais -> latin \"))"
   ]
  },
  {
   "cell_type": "code",
   "execution_count": 36,
   "metadata": {},
   "outputs": [
    {
     "name": "stdout",
     "output_type": "stream",
     "text": [
      "1. verbe\n",
      "2. nom\n",
      "3. adjectif\n",
      "4. autre\n",
      "5. None\n",
      "Tu as choisis le numero: 1 verbe\n"
     ]
    }
   ],
   "source": [
    "options = {}\n",
    "\n",
    "for i, option in enumerate(df['Broad_Category'].unique(), 1):\n",
    "    options[i] = option\n",
    "    print(f\"{i}. {option}\")\n",
    "\n",
    "\n",
    "choice = int(input('Quelle categorie de mot veux tu pratiquer?' ))\n",
    "\n",
    "print('Tu as choisis le numero:', choice, options[choice])\n"
   ]
  },
  {
   "cell_type": "code",
   "execution_count": 8,
   "metadata": {},
   "outputs": [
    {
     "data": {
      "text/plain": [
       "Specific_Category\n",
       "1er groupe                 46\n",
       "verbes deponants           22\n",
       "4eme groupe                14\n",
       "2eme groupe                 2\n",
       "3eme declinaison            2\n",
       "3eme groupe                 1\n",
       "2eme declinaison            1\n",
       "1ere & 2eme declinaison     1\n",
       "Name: count, dtype: int64"
      ]
     },
     "execution_count": 8,
     "metadata": {},
     "output_type": "execute_result"
    }
   ],
   "source": [
    "df['Specific_Category'].value_counts()"
   ]
  },
  {
   "cell_type": "code",
   "execution_count": 40,
   "metadata": {},
   "outputs": [
    {
     "name": "stdout",
     "output_type": "stream",
     "text": [
      "1. 1er groupe\n",
      "2. 2eme groupe\n",
      "3. 3eme groupe\n",
      "4. 4eme groupe\n",
      "5. verbes deponants\n"
     ]
    }
   ],
   "source": [
    "specific = {}\n",
    "if choice == 1:\n",
    "\n",
    "    for i, specific_option in enumerate(df[df['cat1'] == 1]['Specific_Category'].unique(), 1):\n",
    "        specific[i] = specific_option\n",
    "    \n",
    "    for i in range(1, 6):\n",
    "        print(f\"{i}. {specific[i]}\")\n",
    "    \n",
    "    s_choice = int(input('Quelle categorie de verbe veux tu pratiquer?' ))\n",
    "\n",
    "if choice == 2:\n",
    "    for i, specific_option in enumerate(df[df['cat1'] == 2]['Specific_Category'].unique(), 1):\n",
    "        specific[i] = specific_option\n",
    "    \n",
    "    for i in range(1, 3):\n",
    "        print(f\"{i}. {specific[i]}\")\n",
    "    \n",
    "    s_choice = int(input('Quelle categorie de nom veux tu pratiquer?' ))\n",
    "\n",
    "if choice == 3:\n",
    "    for i, specific_option in enumerate(df[df['cat1'] == 3]['Specific_Category'].unique(), 1):\n",
    "        specific[i] = specific_option\n",
    "    \n",
    "    for i in range(1, 3):\n",
    "        print(f\"{i}. {specific[i]}\")\n",
    "    \n",
    "    s_choice = int(input('Quelle categorie d\\'adjectif veux tu pratiquer?' ))\n",
    "\n",
    "## verbes irreguliers avant verbes deponants"
   ]
  },
  {
   "cell_type": "code",
   "execution_count": 41,
   "metadata": {},
   "outputs": [
    {
     "name": "stdout",
     "output_type": "stream",
     "text": [
      "Row numbers of matching words: [46, 47, 48, 49, 50, 51, 52, 53, 54, 55, 56, 57, 58, 59, 60, 61, 62, 63, 64, 65, 66, 67, 68, 69, 70, 71, 72, 73, 74, 75]\n"
     ]
    }
   ],
   "source": [
    "if choice <4:\n",
    "    filtered_df = df[(df[\"cat1\"] == choice) & (df[\"cat2\"] == s_choice)]\n",
    "else:\n",
    "    filtered_df = df[(df[\"cat1\"] == choice)]\n",
    "\n",
    "# Get the row numbers of the matching words\n",
    "row_numbers = filtered_df.index.tolist()\n",
    "print(\"Row numbers of matching words:\", row_numbers)"
   ]
  },
  {
   "cell_type": "code",
   "execution_count": 24,
   "metadata": {},
   "outputs": [],
   "source": [
    "def choose_random_number(beg,end):\n",
    "    return random.randint(beg,end)\n"
   ]
  },
  {
   "cell_type": "code",
   "execution_count": 25,
   "metadata": {},
   "outputs": [
    {
     "data": {
      "text/plain": [
       "23"
      ]
     },
     "execution_count": 25,
     "metadata": {},
     "output_type": "execute_result"
    }
   ],
   "source": [
    "choose_random_number(row_numbers[0], row_numbers[-1])"
   ]
  },
  {
   "cell_type": "code",
   "execution_count": 53,
   "metadata": {},
   "outputs": [
    {
     "name": "stdout",
     "output_type": "stream",
     "text": [
      "plaire\n",
      "Correct!\n"
     ]
    }
   ],
   "source": [
    "if lang == 1:\n",
    "    num = choose_random_number(row_numbers[0], row_numbers[-1])\n",
    "    word = filtered_df['latin'][num]\n",
    "    answer = str(input(f'Quelle est la traduction de: {word}'))\n",
    "    if answer == filtered_df['french'][num]:\n",
    "        print(filtered_df['french'][num])\n",
    "        print('Correct!')\n",
    "    else:\n",
    "        print(filtered_df['french'][choose_random_number(row_numbers[0], row_numbers[-1])])\n",
    "        print('Incorrect!')\n",
    "else:\n",
    "    word = filtered_df['french'][choose_random_number(row_numbers[0], row_numbers[-1])]\n",
    "    answer = str(input(f'Quelle est la traduction de: {word}'))"
   ]
  }
 ],
 "metadata": {
  "kernelspec": {
   "display_name": ".venv",
   "language": "python",
   "name": "python3"
  },
  "language_info": {
   "codemirror_mode": {
    "name": "ipython",
    "version": 3
   },
   "file_extension": ".py",
   "mimetype": "text/x-python",
   "name": "python",
   "nbconvert_exporter": "python",
   "pygments_lexer": "ipython3",
   "version": "3.12.8"
  }
 },
 "nbformat": 4,
 "nbformat_minor": 2
}
